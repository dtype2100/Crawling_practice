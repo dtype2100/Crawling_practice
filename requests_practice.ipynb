{
  "nbformat": 4,
  "nbformat_minor": 0,
  "metadata": {
    "colab": {
      "name": "requests_practice.ipynb",
      "provenance": [],
      "authorship_tag": "ABX9TyPp2aMct15VGTTYOoK8fnqG",
      "include_colab_link": true
    },
    "kernelspec": {
      "name": "python3",
      "display_name": "Python 3"
    },
    "language_info": {
      "name": "python"
    }
  },
  "cells": [
    {
      "cell_type": "markdown",
      "metadata": {
        "id": "view-in-github",
        "colab_type": "text"
      },
      "source": [
        "<a href=\"https://colab.research.google.com/github/dtype2100/Crawling_practice/blob/master/requests_practice.ipynb\" target=\"_parent\"><img src=\"https://colab.research.google.com/assets/colab-badge.svg\" alt=\"Open In Colab\"/></a>"
      ]
    },
    {
      "cell_type": "code",
      "execution_count": null,
      "metadata": {
        "id": "_RDBF7QiVWOi"
      },
      "outputs": [],
      "source": [
        "import requests\n",
        "\n",
        "### 코드를 작성하세요 ###\n",
        "rating_pages = []\n",
        "for year in range(2010, 2013):\n",
        "    for month in range(1, 13):\n",
        "        for weekIndex in range(0, 5):\n",
        "            url = 'https://workey.codeit.kr/ratings/index?year={}&month={}&weekIndex={}'.format(year, month, weekIndex)\n",
        "            response = requests.get(url)\n",
        "            rating_pages.append(response.text)\n",
        "\n",
        "\n",
        "# 출력 코드\n",
        "print(len(rating_pages)) # 가져온 총 페이지 수 \n",
        "print(rating_pages[0]) # 첫 번째 페이지의 HTML 코드"
      ]
    }
  ]
}